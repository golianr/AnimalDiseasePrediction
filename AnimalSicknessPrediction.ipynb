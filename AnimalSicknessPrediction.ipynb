{
 "cells": [
  {
   "cell_type": "code",
   "execution_count": null,
   "id": "00c875e8",
   "metadata": {},
   "outputs": [],
   "source": [
    "# Needed imports"
   ]
  },
  {
   "cell_type": "code",
   "execution_count": 2,
   "id": "d4b87f72",
   "metadata": {},
   "outputs": [],
   "source": [
    "import pandas as pd\n",
    "import numpy as np\n",
    "import matplotlib.pyplot as plt "
   ]
  },
  {
   "cell_type": "code",
   "execution_count": 7,
   "id": "2d343461",
   "metadata": {},
   "outputs": [
    {
     "name": "stdout",
     "output_type": "stream",
     "text": [
      "     Pig  Pen   sow Treatment  Histologyl scores  KLH-IgM0  KLH-IgM2 KLH-IgM4  \\\n",
      "0   8474  1IA   839    Barren                 25       5.5       5.5      6.8   \n",
      "1   8477  1IA   134    Barren                 19       6.0       6.9      7.5   \n",
      "2   8479  1IA   839    Barren                 21       5.3       5.7      6.1   \n",
      "3   8483  2IA   839    Barren                 34       4.5       5.4      5.9   \n",
      "4   8494  2IA  1078    Barren                 27       6.8       7.1      7.8   \n",
      "5   8495  2IA  1078    Barren                 35       5.5       5.7      5.9   \n",
      "6   8498  1IA  1078    Barren                 23       4.7       4.8      5.7   \n",
      "7   8500  1IA  1075    Barren                 15       6.1       6.5      7.4   \n",
      "8   8504  2IA  1075    Barren                 49       4.7       5.0      4.9   \n",
      "9   8509  2IA  1075    Barren                 25       5.8       5.4      5.9   \n",
      "10  8511  1IA  1075    Barren                 26       4.4       4.7        6   \n",
      "11  8512  2IA   134    Barren                 29       5.8       6.0      6.5   \n",
      "12  8516  2IA   134    Barren                 20       7.2       6.8      6.8   \n",
      "13  8517  1IA   134    Barren                 12       6.4       6.4      6.6   \n",
      "14  8522  6IA    30      Rich                  6       5.2       4.8      5.7   \n",
      "15  8528  5IA    30      Rich                 21       5.7       5.6        .   \n",
      "16  8529  6IA    30      Rich                 12       5.6       5.6      5.7   \n",
      "17  8532  5IA    48      Rich                 11       4.9       5.1      5.6   \n",
      "18  8537  6IA    48      Rich                 16       5.0       5.6      6.3   \n",
      "19  8541  5IA    48      Rich                 11       5.0       5.7      6.4   \n",
      "20  8543  5IA    48      Rich                 10       4.9       4.7      5.6   \n",
      "21  8546  6IA   476      Rich                 13       6.3       6.4      6.6   \n",
      "22  8552  5IA   476      Rich                 10       6.3       6.2        7   \n",
      "23  8554  6IA   476      Rich                 18       5.3       5.3      6.3   \n",
      "24  8555  6IA   291      Rich                 12       5.6       6.1      6.6   \n",
      "25  8562  5IA   291      Rich                  5       6.6       7.5        .   \n",
      "26  8563  5IA   291      Rich                 13       5.0       5.5      7.4   \n",
      "27  8564  6IA   291      Rich                 17       6.7       7.0        .   \n",
      "\n",
      "   KLH-IgM8  KLH-IgM9  ...  Rugnr  Histologyscore   Sow  Pen1     Pen2  \\\n",
      "0       6.2       5.8  ...      4              25   839   1IA  046-013   \n",
      "1       7.3       7.5  ...      7              19   134   1IA  046-013   \n",
      "2       5.9       6.2  ...      3              21   839   1IA  046-013   \n",
      "3       5.9       5.3  ...      4              34   839   2IA  046-018   \n",
      "4       7.3       7.4  ...      3              27  1078   2IA  046-018   \n",
      "5         6       5.7  ...      2              35  1078   2IA  046-018   \n",
      "6       5.7       5.5  ...      2              23  1078   1IA  046-013   \n",
      "7       7.3       7.6  ...      6              15  1075   1IA  046-013   \n",
      "8       5.7       5.7  ...      5              49  1075   2IA  046-018   \n",
      "9       6.9       8.1  ...      6              25  1075   2IA  046-018   \n",
      "10      6.3       6.9  ...      5              26  1075   1IA  046-013   \n",
      "11      6.4       6.2  ...      7              29   134   2IA  046-018   \n",
      "12      7.9       8.2  ...      8              20   134   2IA  046-018   \n",
      "13      6.7       6.6  ...      8              12   134   1IA  046-013   \n",
      "14      7.1       7.4  ...      3               6    30   6IA  046-016   \n",
      "15        7       7.5  ...      2              21    30   5IA  046-011   \n",
      "16      6.2       7.4  ...      4              12    30   6IA  046-016   \n",
      "17      5.8       5.7  ...      5              11    48   5IA  046-011   \n",
      "18      5.9       6.2  ...      5              16    48   6IA  046-016   \n",
      "19        .       6.4  ...      3              11    48   5IA  046-011   \n",
      "20      6.1       5.8  ...      4              10    48   5IA  046-011   \n",
      "21      6.6       7.0  ...      2              13   476   6IA  046-016   \n",
      "22      6.9       6.9  ...      7              10   476   5IA  046-011   \n",
      "23      5.7       6.2  ...      7              18   476   6IA  046-016   \n",
      "24        .       6.5  ...      6              12   291   6IA  046-016   \n",
      "25      8.4       7.7  ...      6               5   291   5IA  046-011   \n",
      "26        7       6.9  ...      8              13   291   5IA  046-011   \n",
      "27      7.2       7.5  ...      8              17   291   6IA  046-016   \n",
      "\n",
      "     Housing  sexe  coping strategy  Copinghousing  Geboorte datum  \n",
      "0     Barren     m               LR       BarrenLR      2014-02-26  \n",
      "1     Barren     m               LR       BarrenLR      2014-02-27  \n",
      "2     Barren     f               LR       BarrenLR      2014-02-26  \n",
      "3     Barren     f               LR       BarrenLR      2014-02-26  \n",
      "4     Barren     m               LR       BarrenLR      2014-02-28  \n",
      "5     Barren     f               LR       BarrenLR      2014-02-28  \n",
      "6     Barren     f               LR       BarrenLR      2014-02-28  \n",
      "7     Barren     m               HR       BarrenHR      2014-03-01  \n",
      "8     Barren     m               LR       BarrenLR      2014-03-01  \n",
      "9     Barren     f               LR       BarrenLR      2014-03-01  \n",
      "10    Barren     f               LR       BarrenLR      2014-03-01  \n",
      "11    Barren     m               LR       BarrenLR      2014-02-27  \n",
      "12    Barren     f               LR       BarrenLR      2014-02-27  \n",
      "13    Barren     f               HR       BarrenHR      2014-02-27  \n",
      "14  Enriched     m               LR     EnrichedLR      2014-03-01  \n",
      "15  Enriched     f               LR     EnrichedLR      2014-03-01  \n",
      "16  Enriched     f               LR     EnrichedLR      2014-03-01  \n",
      "17  Enriched     m               LR     EnrichedLR      2014-03-02  \n",
      "18  Enriched     f               LR     EnrichedLR      2014-03-02  \n",
      "19  Enriched     f               HR     EnrichedHR      2014-03-02  \n",
      "20  Enriched     f               LR     EnrichedLR      2014-03-02  \n",
      "21  Enriched     m               LR     EnrichedLR      2014-03-02  \n",
      "22  Enriched     m               LR     EnrichedLR      2014-03-02  \n",
      "23  Enriched     f               LR     EnrichedLR      2014-03-02  \n",
      "24  Enriched     m               HR     EnrichedHR      2014-03-02  \n",
      "25  Enriched     m               HR     EnrichedHR      2014-03-02  \n",
      "26  Enriched     f               LR     EnrichedLR      2014-03-02  \n",
      "27  Enriched     f               LR     EnrichedLR      2014-03-02  \n",
      "\n",
      "[28 rows x 58 columns]\n"
     ]
    }
   ],
   "source": [
    "dataset = pd.read_excel(\"AnimalDataset.xlsx\")\n",
    "print(dataset)"
   ]
  },
  {
   "cell_type": "code",
   "execution_count": null,
   "id": "da8496ca",
   "metadata": {},
   "outputs": [],
   "source": []
  }
 ],
 "metadata": {
  "kernelspec": {
   "display_name": "Python 3 (ipykernel)",
   "language": "python",
   "name": "python3"
  },
  "language_info": {
   "codemirror_mode": {
    "name": "ipython",
    "version": 3
   },
   "file_extension": ".py",
   "mimetype": "text/x-python",
   "name": "python",
   "nbconvert_exporter": "python",
   "pygments_lexer": "ipython3",
   "version": "3.12.3"
  }
 },
 "nbformat": 4,
 "nbformat_minor": 5
}
