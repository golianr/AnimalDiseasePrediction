{
 "cells": [
  {
   "cell_type": "code",
   "execution_count": null,
   "id": "00c875e8",
   "metadata": {},
   "outputs": [],
   "source": [
    "# Needed imports"
   ]
  },
  {
   "cell_type": "code",
   "execution_count": 1,
   "id": "d4b87f72",
   "metadata": {},
   "outputs": [],
   "source": [
    "import pandas as pd\n",
    "import numpy as np\n",
    "import matplotlib.pyplot as plt "
   ]
  },
  {
   "cell_type": "code",
   "execution_count": 4,
   "id": "2d343461",
   "metadata": {},
   "outputs": [
    {
     "name": "stdout",
     "output_type": "stream",
     "text": [
      "    Pig  Pen   sow Treatment  Histologyl scores  KLH-IgM0  KLH-IgM2 KLH-IgM4  \\\n",
      "0  8474  1IA   839    Barren                 25       5.5       5.5      6.8   \n",
      "1  8477  1IA   134    Barren                 19       6.0       6.9      7.5   \n",
      "2  8479  1IA   839    Barren                 21       5.3       5.7      6.1   \n",
      "3  8483  2IA   839    Barren                 34       4.5       5.4      5.9   \n",
      "4  8494  2IA  1078    Barren                 27       6.8       7.1      7.8   \n",
      "\n",
      "  KLH-IgM8  KLH-IgM9  ...  Rugnr  Histologyscore   Sow  Pen1     Pen2 Housing  \\\n",
      "0      6.2       5.8  ...      4              25   839   1IA  046-013  Barren   \n",
      "1      7.3       7.5  ...      7              19   134   1IA  046-013  Barren   \n",
      "2      5.9       6.2  ...      3              21   839   1IA  046-013  Barren   \n",
      "3      5.9       5.3  ...      4              34   839   2IA  046-018  Barren   \n",
      "4      7.3       7.4  ...      3              27  1078   2IA  046-018  Barren   \n",
      "\n",
      "   sexe  coping strategy  Copinghousing  Geboorte datum  \n",
      "0     m               LR       BarrenLR      2014-02-26  \n",
      "1     m               LR       BarrenLR      2014-02-27  \n",
      "2     f               LR       BarrenLR      2014-02-26  \n",
      "3     f               LR       BarrenLR      2014-02-26  \n",
      "4     m               LR       BarrenLR      2014-02-28  \n",
      "\n",
      "[5 rows x 58 columns]\n"
     ]
    }
   ],
   "source": [
    "dataset = pd.read_excel(\"AnimalDataset.xlsx\")\n",
    "perc = 0.2\n",
    "split_indx = int(perc * len(dataset))\n",
    "test = dataset[:split_indx]\n",
    "train = dataset[split_indx:]\n",
    "print(test)"
   ]
  },
  {
   "cell_type": "code",
   "execution_count": null,
   "id": "da8496ca",
   "metadata": {},
   "outputs": [],
   "source": []
  }
 ],
 "metadata": {
  "kernelspec": {
   "display_name": "Python 3 (ipykernel)",
   "language": "python",
   "name": "python3"
  },
  "language_info": {
   "codemirror_mode": {
    "name": "ipython",
    "version": 3
   },
   "file_extension": ".py",
   "mimetype": "text/x-python",
   "name": "python",
   "nbconvert_exporter": "python",
   "pygments_lexer": "ipython3",
   "version": "3.12.3"
  }
 },
 "nbformat": 4,
 "nbformat_minor": 5
}
